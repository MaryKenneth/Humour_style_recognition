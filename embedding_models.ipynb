{
 "cells": [
  {
   "cell_type": "markdown",
   "metadata": {},
   "source": [
    "# Import Libraries"
   ]
  },
  {
   "cell_type": "code",
   "execution_count": 1,
   "metadata": {},
   "outputs": [
    {
     "name": "stdout",
     "output_type": "stream",
     "text": [
      "WARNING:tensorflow:From c:\\Users\\maryk\\anaconda3\\Lib\\site-packages\\keras\\src\\losses.py:2976: The name tf.losses.sparse_softmax_cross_entropy is deprecated. Please use tf.compat.v1.losses.sparse_softmax_cross_entropy instead.\n",
      "\n"
     ]
    }
   ],
   "source": [
    "from FlagEmbedding import FlagModel\n",
    "from sentence_transformers import SentenceTransformer,util\n",
    "\n",
    "import pandas as pd\n",
    "import numpy as np\n",
    "from sklearn.model_selection import train_test_split, cross_val_score\n",
    "from sklearn.metrics import classification_report\n",
    "\n",
    "from sklearn.ensemble import RandomForestClassifier\n",
    "import xgboost as xgb\n",
    "import torch\n",
    "import torch.nn as nn\n",
    "import torch.nn.functional as F\n",
    "import matplotlib.pyplot as plt"
   ]
  },
  {
   "cell_type": "markdown",
   "metadata": {},
   "source": [
    "# Functions"
   ]
  },
  {
   "cell_type": "markdown",
   "metadata": {},
   "source": [
    "### Read datasets function"
   ]
  },
  {
   "cell_type": "code",
   "execution_count": 2,
   "metadata": {},
   "outputs": [],
   "source": [
    "# Read a single Dataset File\n",
    "def read_dataset(file_path):\n",
    "    if file_path.lower().endswith('.csv'):\n",
    "        dataset = pd.read_csv(file_path)\n",
    "    elif file_path.lower().endswith('.xlsx'):\n",
    "        dataset = pd.read_excel(file_path)\n",
    "    else:\n",
    "        raise ValueError(\"Unsupported file format. Please provide a .csv or .xlsx file.\")\n",
    "    \n",
    "    dataset   = np.array(dataset)\n",
    "    data_train, data_test     = train_test_split(dataset, test_size=0.2, random_state=100)\n",
    "\n",
    "    x_train, y_train   = (data_train[:,:-1]), (data_train[:,-1]).astype(\"int32\")\n",
    "    x_test, y_test     = (data_test[:,:-1]), (data_test[:,-1]).astype(\"int32\")           \n",
    "    x_train, x_test    = x_train.squeeze(), x_test.squeeze()\n",
    "\n",
    "    return x_train, x_test, y_train, y_test\n",
    "\n",
    "\n",
    "# If you have Train and Test Datasets separate\n",
    "def read_train_test_dataset(train_data, test_data):\n",
    "    if train_data.lower().endswith('.csv') and test_data.lower().endswith('.csv'):\n",
    "        train_data = pd.read_csv(train_data)\n",
    "        test_data = pd.read_csv(test_data)\n",
    "    elif train_data.lower().endswith('.xlsx') and test_data.lower().endswith('.xlsx'):\n",
    "        train_data = pd.read_excel(train_data)\n",
    "        test_data = pd.read_excel(test_data)\n",
    "    else:\n",
    "        raise ValueError(\"Unsupported file format. Please provide a .csv or .xlsx file.\")\n",
    "    \n",
    "    train_data, test_data   = np.array(train_data), np.array(test_data)\n",
    "\n",
    "    x_train, y_train   = (train_data[:,:-1]), (train_data[:,-1]).astype(\"int32\")\n",
    "    x_test, y_test     = (test_data[:,:-1]), (test_data[:,-1]).astype(\"int32\")           \n",
    "    x_train, x_test    = x_train.squeeze(), x_test.squeeze()\n",
    "\n",
    "    return x_train, x_test, y_train, y_test"
   ]
  },
  {
   "cell_type": "markdown",
   "metadata": {},
   "source": [
    "### BGE Embedding\n",
    "Note: to make use of any of the embedding models you just have to uncomment the name"
   ]
  },
  {
   "cell_type": "code",
   "execution_count": 3,
   "metadata": {},
   "outputs": [],
   "source": [
    "def BGE(sentences):\n",
    "    dimensions = 512\n",
    "    #model = SentenceTransformer('intfloat/multilingual-e5-large-instruct')  # 17th Multilingual-E5-large-instruct\n",
    "    #model = SentenceTransformer(\"mixedbread-ai/mxbai-embed-large-v1\", truncate_dim=dimensions) # 12th\n",
    "    model = SentenceTransformer('BAAI/bge-large-zh-v1.5')  # 20\n",
    "    dataset_embedding = model.encode(sentences, normalize_embeddings=True)\n",
    "\n",
    "    return dataset_embedding"
   ]
  },
  {
   "cell_type": "markdown",
   "metadata": {},
   "source": [
    "### GTE Embedding\n",
    "Note: to make use of any of the embedding models you just have to uncomment the name"
   ]
  },
  {
   "cell_type": "code",
   "execution_count": 4,
   "metadata": {},
   "outputs": [],
   "source": [
    "def GTE(sentences):\n",
    "    model = SentenceTransformer(\"WhereIsAI/UAE-Large-V1\")  # 13th UAE\n",
    "    #model = SentenceTransformer('Alibaba-NLP/gte-large-en-v1.5', trust_remote_code=True) # 9 MTEB rank\n",
    "    # model = SentenceTransformer('thenlper/gte-large')  # 29 MTEB Rank\n",
    "    dataset_embedding = model.encode(sentences, normalize_embeddings=True)\n",
    "\n",
    "    return dataset_embedding"
   ]
  },
  {
   "cell_type": "markdown",
   "metadata": {},
   "source": [
    "### Save model results"
   ]
  },
  {
   "cell_type": "code",
   "execution_count": 5,
   "metadata": {},
   "outputs": [],
   "source": [
    "def save_results(true_label, predicted):\n",
    "    report_dict = classification_report(true_label,predicted,output_dict=True)\n",
    "\n",
    "    # Save Result Report\n",
    "    save_report = pd.DataFrame(report_dict).transpose()  # Convert the report dictionary to a DataFrame\n",
    "    save_report = save_report.round(3)                   # Round the values to a specific number of decimal places\n",
    "    save_report = save_report.astype({'support': int})   # Convert the 'support' column to integers\n",
    "    save_report.loc['accuracy', ['precision', 'recall', 'support']] = [None, None, None] # Set the accuracy row to None\n",
    "\n",
    "    return save_report"
   ]
  },
  {
   "cell_type": "markdown",
   "metadata": {},
   "source": [
    "## Classifiers "
   ]
  },
  {
   "cell_type": "markdown",
   "metadata": {},
   "source": [
    "### Random Forest "
   ]
  },
  {
   "cell_type": "code",
   "execution_count": 6,
   "metadata": {},
   "outputs": [],
   "source": [
    "def randomforest(x_train, y_train):\n",
    "    # Create RandomForestClassifier\n",
    "    rf_classifier = RandomForestClassifier(n_estimators=100, random_state=42)\n",
    "\n",
    "    # Perform cross-validation\n",
    "    cv_scores = cross_val_score(rf_classifier, x_train, y_train, cv=10)  # 10-fold cross-validation\n",
    "\n",
    "    # Train the model\n",
    "    rf_classifier.fit(x_train, y_train)\n",
    "\n",
    "    return rf_classifier, cv_scores.mean()"
   ]
  },
  {
   "cell_type": "markdown",
   "metadata": {},
   "source": [
    "### XGBoost "
   ]
  },
  {
   "cell_type": "code",
   "execution_count": 7,
   "metadata": {},
   "outputs": [],
   "source": [
    "def XGBoost(x_train, y_train, num_class):\n",
    "    # Create an XGBoost classifier\n",
    "    xgb_classifier = xgb.XGBClassifier(objective='multi:softmax', num_class=num_class, random_state=100)\n",
    "\n",
    "    # Perform cross-validation\n",
    "    cv_scores = cross_val_score(xgb_classifier, x_train, y_train, cv=10, scoring='accuracy')\n",
    "\n",
    "    # Train the model\n",
    "    xgb_classifier.fit(x_train, y_train)\n",
    "\n",
    "    return xgb_classifier, cv_scores.mean()"
   ]
  },
  {
   "cell_type": "markdown",
   "metadata": {},
   "source": [
    "### Predict Function"
   ]
  },
  {
   "cell_type": "code",
   "execution_count": 8,
   "metadata": {},
   "outputs": [],
   "source": [
    "def prediction(classifier, x_test, y_test):\n",
    "    y_pred = classifier.predict(x_test)\n",
    "\n",
    "    # Evaluate the model\n",
    "    class_report = classification_report(y_test, y_pred)\n",
    "\n",
    "    return y_pred, class_report"
   ]
  },
  {
   "cell_type": "markdown",
   "metadata": {},
   "source": [
    "# Five class Classification"
   ]
  },
  {
   "cell_type": "code",
   "execution_count": 9,
   "metadata": {},
   "outputs": [],
   "source": [
    "import time\n",
    "\n",
    "# Read dataset \n",
    "humor_5class_path = \"datasets/Humour_style.xlsx\" \n",
    "x_train_5, x_test_5, y_train_5, y_test_5 = read_dataset(humor_5class_path)"
   ]
  },
  {
   "cell_type": "code",
   "execution_count": 10,
   "metadata": {},
   "outputs": [
    {
     "name": "stdout",
     "output_type": "stream",
     "text": [
      "Time in seconds BGE: 222.633631\n",
      "Time in seconds GTE: 202.641098\n"
     ]
    }
   ],
   "source": [
    "# BGE Embedding Model\n",
    "start_time_bge = time.time()\n",
    "x_train_5_bge, x_test_5_bge = BGE(x_train_5), BGE(x_test_5)\n",
    "execution_time_bge = time.time() - start_time_bge\n",
    "print(f\"Time in seconds BGE: {execution_time_bge:.6f}\")\n",
    "\n",
    "# GTE Embedding Model\n",
    "start_time_gte = time.time()\n",
    "x_train_5_gte, x_test_5_gte = GTE(x_train_5), GTE(x_test_5)\n",
    "execution_time_gte = time.time() - start_time_gte\n",
    "print(f\"Time in seconds GTE: {execution_time_gte:.6f}\")"
   ]
  },
  {
   "cell_type": "code",
   "execution_count": 11,
   "metadata": {},
   "outputs": [
    {
     "name": "stdout",
     "output_type": "stream",
     "text": [
      "RF BGE: Cross Val 0.805940594059406\n",
      "               precision    recall  f1-score   support\n",
      "\n",
      "           0       0.77      0.93      0.85        59\n",
      "           1       0.80      0.81      0.80        48\n",
      "           2       0.64      0.36      0.46        44\n",
      "           3       0.67      0.72      0.69        46\n",
      "           4       0.95      1.00      0.97        56\n",
      "\n",
      "    accuracy                           0.79       253\n",
      "   macro avg       0.77      0.77      0.76       253\n",
      "weighted avg       0.78      0.79      0.77       253\n",
      "\n",
      "RF GTE: Cross Val 0.7752475247524753\n",
      "               precision    recall  f1-score   support\n",
      "\n",
      "           0       0.88      0.90      0.89        59\n",
      "           1       0.74      0.71      0.72        48\n",
      "           2       0.61      0.32      0.42        44\n",
      "           3       0.59      0.78      0.67        46\n",
      "           4       0.87      0.98      0.92        56\n",
      "\n",
      "    accuracy                           0.76       253\n",
      "   macro avg       0.74      0.74      0.73       253\n",
      "weighted avg       0.75      0.76      0.74       253\n",
      "\n"
     ]
    }
   ],
   "source": [
    "# Random Forest\n",
    "RF_bge_classifier5, RF_bge_cv_scores5 = randomforest(x_train_5_bge,y_train_5)\n",
    "RF_bge_y_pred5, RF_bge_class_report5  = prediction(RF_bge_classifier5,x_test_5_bge, y_test_5)\n",
    "\n",
    "RF_gteclassifier5, RF_gte_cv_scores5 = randomforest(x_train_5_gte, y_train_5)\n",
    "RF_gte_y_pred5, RF_gte_class_report5  = prediction(RF_gteclassifier5, x_test_5_gte, y_test_5)\n",
    "\n",
    "# Save Report\n",
    "RF_bge_result_5= save_results(y_test_5,RF_bge_y_pred5)\n",
    "RF_bge_result_5.to_csv('models_results/RF_multilingual_5classes.csv', index=False)\n",
    "\n",
    "RF_gte_result_5 = save_results(y_test_5,RF_gte_y_pred5)\n",
    "RF_gte_result_5.to_csv('models_results/RF_UAE_5classes.csv', index=False)\n",
    "\n",
    "# Evaluation Report\n",
    "print(f'RF BGE: Cross Val {RF_bge_cv_scores5}\\n {RF_bge_class_report5}')\n",
    "print(f'RF GTE: Cross Val {RF_gte_cv_scores5}\\n {RF_gte_class_report5}')"
   ]
  },
  {
   "cell_type": "code",
   "execution_count": 12,
   "metadata": {},
   "outputs": [
    {
     "name": "stdout",
     "output_type": "stream",
     "text": [
      "XGBoost BGE: Cross Val 0.8297029702970298\n",
      "               precision    recall  f1-score   support\n",
      "\n",
      "           0       0.79      0.93      0.85        59\n",
      "           1       0.75      0.79      0.77        48\n",
      "           2       0.65      0.45      0.53        44\n",
      "           3       0.65      0.61      0.63        46\n",
      "           4       0.97      1.00      0.98        56\n",
      "\n",
      "    accuracy                           0.78       253\n",
      "   macro avg       0.76      0.76      0.75       253\n",
      "weighted avg       0.77      0.78      0.77       253\n",
      "\n",
      "XGBoost GTE: Cross Val 0.7782178217821782\n",
      "               precision    recall  f1-score   support\n",
      "\n",
      "           0       0.81      0.88      0.85        59\n",
      "           1       0.79      0.77      0.78        48\n",
      "           2       0.60      0.48      0.53        44\n",
      "           3       0.67      0.63      0.65        46\n",
      "           4       0.83      0.95      0.88        56\n",
      "\n",
      "    accuracy                           0.76       253\n",
      "   macro avg       0.74      0.74      0.74       253\n",
      "weighted avg       0.75      0.76      0.75       253\n",
      "\n"
     ]
    }
   ],
   "source": [
    "# XGBOOST\n",
    "xg_bge_classifier5, xg_bge_cv_scores5 = XGBoost(x_train_5_bge,y_train_5,5)\n",
    "xg_bge_y_pred5, xg_bge_class_report5  = prediction(xg_bge_classifier5, x_test_5_bge, y_test_5)\n",
    "\n",
    "xg_gte_classifier5, xg_gte_cv_scores5 = XGBoost(x_train_5_gte,y_train_5,5)\n",
    "xg_gte_y_pred5, xg_gte_class_report5  = prediction(xg_gte_classifier5, x_test_5_gte, y_test_5)\n",
    "\n",
    "# Save Report\n",
    "xg_bge_result_5= save_results(y_test_5, xg_bge_y_pred5)\n",
    "xg_bge_result_5.to_csv('models_results/XG_multilingual_5classes.csv', index=False)\n",
    "\n",
    "xg_gte_result_5 = save_results(y_test_5, xg_gte_y_pred5)\n",
    "xg_gte_result_5.to_csv('models_results/XG_UAE_5classes.csv', index=False)\n",
    "\n",
    "# Evaluation Report\n",
    "print(f'XGBoost BGE: Cross Val {xg_bge_cv_scores5}\\n {xg_bge_class_report5}')\n",
    "print(f'XGBoost GTE: Cross Val {xg_gte_cv_scores5}\\n {xg_gte_class_report5}')"
   ]
  },
  {
   "cell_type": "markdown",
   "metadata": {},
   "source": [
    "# Four Classes"
   ]
  },
  {
   "cell_type": "code",
   "execution_count": 13,
   "metadata": {},
   "outputs": [
    {
     "name": "stdout",
     "output_type": "stream",
     "text": [
      "Time in seconds BGE: 221.041124\n",
      "Time in seconds GTE: 207.955368\n"
     ]
    }
   ],
   "source": [
    "import time\n",
    "\n",
    "# Read dataset \n",
    "humor_4class_path = \"datasets/Humour_style_4classes.xlsx\" \n",
    "x_train_4, x_test_4, y_train_4, y_test_4 = read_dataset(humor_4class_path)\n",
    "# BGE Embedding Model\n",
    "start_time_bge4 = time.time()\n",
    "x_train_4_bge, x_test_4_bge = BGE(x_train_4), BGE(x_test_4)\n",
    "execution_time_bge4 = time.time() - start_time_bge4\n",
    "print(f\"Time in seconds BGE: {execution_time_bge4:.6f}\")\n",
    "\n",
    "# GTE Embedding Model\n",
    "start_time_gte4 = time.time()\n",
    "x_train_4_gte, x_test_4_gte = GTE(x_train_4), GTE(x_test_4)\n",
    "execution_time_gte4 = time.time() - start_time_gte4\n",
    "print(f\"Time in seconds GTE: {execution_time_gte4:.6f}\")"
   ]
  },
  {
   "cell_type": "code",
   "execution_count": 14,
   "metadata": {},
   "outputs": [
    {
     "name": "stdout",
     "output_type": "stream",
     "text": [
      "RF BGE: Cross Val 0.8386138613861386\n",
      "               precision    recall  f1-score   support\n",
      "\n",
      "           0       0.90      0.88      0.89        59\n",
      "           1       0.81      0.44      0.57        48\n",
      "           2       0.72      0.92      0.81        90\n",
      "           3       1.00      0.96      0.98        56\n",
      "\n",
      "    accuracy                           0.83       253\n",
      "   macro avg       0.86      0.80      0.81       253\n",
      "weighted avg       0.84      0.83      0.82       253\n",
      "\n",
      "RF GTE: Cross Val 0.7930693069306931\n",
      "               precision    recall  f1-score   support\n",
      "\n",
      "           0       0.88      0.73      0.80        59\n",
      "           1       0.87      0.56      0.68        48\n",
      "           2       0.70      0.96      0.81        90\n",
      "           3       0.98      0.88      0.92        56\n",
      "\n",
      "    accuracy                           0.81       253\n",
      "   macro avg       0.86      0.78      0.80       253\n",
      "weighted avg       0.84      0.81      0.81       253\n",
      "\n"
     ]
    }
   ],
   "source": [
    "# Random Forest\n",
    "RF_bge_classifier4, RF_bge_cv_scores4 = randomforest(x_train_4_bge, y_train_4)\n",
    "RF_bge_y_pred4, RF_bge_class_report4  = prediction(RF_bge_classifier4, x_test_4_bge, y_test_4)\n",
    "\n",
    "RF_gte_classifier4, RF_gte_cv_scores4 = randomforest(x_train_4_gte, y_train_4)\n",
    "RF_gte_y_pred4, RF_gte_class_report4  = prediction(RF_gte_classifier4, x_test_4_gte, y_test_4)\n",
    "\n",
    "# Save Report\n",
    "RF_bge_result_4= save_results(y_test_4,RF_bge_y_pred4)\n",
    "RF_bge_result_4.to_csv('models_results/RF_multilingual_4classes.csv', index=False)\n",
    "\n",
    "RF_gte_result_4 = save_results(y_test_4,RF_gte_y_pred4)\n",
    "RF_gte_result_4.to_csv('models_results/RF_UAE_4classes.csv', index=False)\n",
    "\n",
    "# Evaluation Report\n",
    "print(f'RF BGE: Cross Val {RF_bge_cv_scores4}\\n {RF_bge_class_report4}')\n",
    "print(f'RF GTE: Cross Val {RF_gte_cv_scores4}\\n {RF_gte_class_report4}')"
   ]
  },
  {
   "cell_type": "code",
   "execution_count": 15,
   "metadata": {},
   "outputs": [
    {
     "name": "stdout",
     "output_type": "stream",
     "text": [
      "XGBoost BGE: Cross Val 0.8792079207920793\n",
      "               precision    recall  f1-score   support\n",
      "\n",
      "           0       0.82      0.90      0.85        59\n",
      "           1       0.85      0.71      0.77        48\n",
      "           2       0.88      0.90      0.89        90\n",
      "           3       1.00      1.00      1.00        56\n",
      "\n",
      "    accuracy                           0.89       253\n",
      "   macro avg       0.89      0.88      0.88       253\n",
      "weighted avg       0.89      0.89      0.88       253\n",
      "\n",
      "XGBoost GTE: Cross Val 0.8356435643564357\n",
      "               precision    recall  f1-score   support\n",
      "\n",
      "           0       0.86      0.86      0.86        59\n",
      "           1       0.89      0.69      0.78        48\n",
      "           2       0.78      0.89      0.83        90\n",
      "           3       0.95      0.93      0.94        56\n",
      "\n",
      "    accuracy                           0.85       253\n",
      "   macro avg       0.87      0.84      0.85       253\n",
      "weighted avg       0.86      0.85      0.85       253\n",
      "\n"
     ]
    }
   ],
   "source": [
    "# XGBOOST\n",
    "xg_bge_classifier4, xg_bge_cv_scores4 = XGBoost(x_train_4_bge, y_train_4, 4)\n",
    "xg_bge_y_pred4,  xg_bge_class_report4 = prediction(xg_bge_classifier4, x_test_4_bge, y_test_4)\n",
    "\n",
    "xg_gte_classifier4, xg_gte_cv_scores4 = XGBoost(x_train_4_gte, y_train_4, 4)\n",
    "xg_gte_y_pred4, xg_gte_class_report4  = prediction(xg_gte_classifier4, x_test_4_gte, y_test_4)\n",
    "\n",
    "\n",
    "# Save Report\n",
    "xg_bge_result_4= save_results(y_test_4, xg_bge_y_pred4)\n",
    "xg_bge_result_4.to_csv('models_results/XG_multilingual_4classes.csv', index=False)\n",
    "\n",
    "xg_gte_result_4 = save_results(y_test_4, xg_gte_y_pred4)\n",
    "xg_gte_result_4.to_csv('models_results/XG_UAE_4classes.csv', index=False)\n",
    "\n",
    "# Evaluation Report\n",
    "print(f'XGBoost BGE: Cross Val {xg_bge_cv_scores4}\\n {xg_bge_class_report4}')\n",
    "print(f'XGBoost GTE: Cross Val {xg_gte_cv_scores4}\\n {xg_gte_class_report4}')"
   ]
  },
  {
   "cell_type": "markdown",
   "metadata": {},
   "source": [
    "# Two Class Classification"
   ]
  },
  {
   "cell_type": "code",
   "execution_count": 16,
   "metadata": {},
   "outputs": [],
   "source": [
    "import time\n",
    "\n",
    "# Read dataset \n",
    "train_2class_path = \"datasets/af_ag_train.xlsx\" \n",
    "test_2class_path  = \"datasets/af_ag_test.xlsx\" \n",
    "\n",
    "x_train_2, x_test_2, y_train_2, y_test_2 = read_train_test_dataset(train_2class_path, test_2class_path)"
   ]
  },
  {
   "cell_type": "code",
   "execution_count": 17,
   "metadata": {},
   "outputs": [
    {
     "name": "stdout",
     "output_type": "stream",
     "text": [
      "Time in seconds BGE: 125.130854\n",
      "Time in seconds GTE: 109.577378\n"
     ]
    }
   ],
   "source": [
    "# BGE Embedding Model\n",
    "start_time_bge2 = time.time()\n",
    "x_train_2_bge, x_test_2_bge = BGE(x_train_2), BGE(x_test_2)\n",
    "execution_time_bge2 = time.time() - start_time_bge2\n",
    "print(f\"Time in seconds BGE: {execution_time_bge2:.6f}\")\n",
    "\n",
    "# GTE Embedding Model\n",
    "start_time_gte2 = time.time()\n",
    "x_train_2_gte, x_test_2_gte = GTE(x_train_2), GTE(x_test_2)\n",
    "execution_time_gte2= time.time() - start_time_gte2\n",
    "print(f\"Time in seconds GTE: {execution_time_gte2:.6f}\")"
   ]
  },
  {
   "cell_type": "code",
   "execution_count": 18,
   "metadata": {},
   "outputs": [
    {
     "name": "stdout",
     "output_type": "stream",
     "text": [
      "RF BGE: Cross Val 0.8235492577597843\n",
      "               precision    recall  f1-score   support\n",
      "\n",
      "           0       0.77      0.77      0.77        44\n",
      "           1       0.78      0.78      0.78        46\n",
      "\n",
      "    accuracy                           0.78        90\n",
      "   macro avg       0.78      0.78      0.78        90\n",
      "weighted avg       0.78      0.78      0.78        90\n",
      "\n",
      "RF GTE: Cross Val 0.8078272604588393\n",
      "               precision    recall  f1-score   support\n",
      "\n",
      "           0       0.79      0.61      0.69        44\n",
      "           1       0.70      0.85      0.76        46\n",
      "\n",
      "    accuracy                           0.73        90\n",
      "   macro avg       0.75      0.73      0.73        90\n",
      "weighted avg       0.74      0.73      0.73        90\n",
      "\n"
     ]
    }
   ],
   "source": [
    "# Random Forest\n",
    "RF_bge_classifier2, RF_bge_cv_scores2 = randomforest(x_train_2_bge,y_train_2)\n",
    "RF_bge_y_pred2, RF_bge_class_report2  = prediction(RF_bge_classifier2, x_test_2_bge,y_test_2)\n",
    "\n",
    "\n",
    "RF_gte_classifier2, RF_gte_cv_scores2 = randomforest(x_train_2_gte,y_train_2)\n",
    "RF_gte_y_pred2, RF_gte_class_report2  = prediction(RF_gte_classifier2,x_test_2_gte, y_test_2)\n",
    "\n",
    "# Save Report\n",
    "RF_bge_result_2= save_results(y_test_2,RF_bge_y_pred2)\n",
    "RF_bge_result_2.to_csv('models_results/RF_multilingual_2classes.csv', index=False)\n",
    "\n",
    "RF_gte_result_2 = save_results(y_test_2,RF_gte_y_pred2)\n",
    "RF_gte_result_2.to_csv('models_results/RF_UAE_2classes.csv', index=False)\n",
    "\n",
    "# Evaluation Report\n",
    "print(f'RF BGE: Cross Val {RF_bge_cv_scores2}\\n {RF_bge_class_report2}')\n",
    "print(f'RF GTE: Cross Val {RF_gte_cv_scores2}\\n {RF_gte_class_report2}')"
   ]
  },
  {
   "cell_type": "code",
   "execution_count": 19,
   "metadata": {},
   "outputs": [
    {
     "name": "stdout",
     "output_type": "stream",
     "text": [
      "XGBoost BGE: Cross Val 0.7950742240215923\n",
      "               precision    recall  f1-score   support\n",
      "\n",
      "           0       0.78      0.70      0.74        44\n",
      "           1       0.74      0.80      0.77        46\n",
      "\n",
      "    accuracy                           0.76        90\n",
      "   macro avg       0.76      0.75      0.75        90\n",
      "weighted avg       0.76      0.76      0.75        90\n",
      "\n",
      "XGBoost GTE: Cross Val 0.8133603238866396\n",
      "               precision    recall  f1-score   support\n",
      "\n",
      "           0       0.73      0.61      0.67        44\n",
      "           1       0.68      0.78      0.73        46\n",
      "\n",
      "    accuracy                           0.70        90\n",
      "   macro avg       0.70      0.70      0.70        90\n",
      "weighted avg       0.70      0.70      0.70        90\n",
      "\n"
     ]
    }
   ],
   "source": [
    "# XGBOOST\n",
    "xg_bge_classifier2, xg_bge_cv_scores2 = XGBoost(x_train_2_bge,y_train_2,2)\n",
    "xg_bge_y_pred2, xg_bge_class_report2  = prediction(xg_bge_classifier2, x_test_2_bge, y_test_2)\n",
    "\n",
    "xg_gte_classifier2, xg_gte_cv_scores2 = XGBoost(x_train_2_gte,y_train_2,2)\n",
    "xg_gte_y_pred2, xg_gte_class_report2  = prediction(xg_gte_classifier2,x_test_2_gte, y_test_2)\n",
    "\n",
    "# Save Report\n",
    "xg_bge_result_2= save_results(y_test_2, xg_bge_y_pred2)\n",
    "xg_bge_result_2.to_csv('models_results/XG_multilingual_2classes.csv', index=False)\n",
    "\n",
    "xg_gte_result_2 = save_results(y_test_2, xg_gte_y_pred2)\n",
    "xg_gte_result_2.to_csv('models_results/XG_UAE_2classes.csv', index=False)\n",
    "\n",
    "# Evaluation Report\n",
    "print(f'XGBoost BGE: Cross Val {xg_bge_cv_scores2}\\n {xg_bge_class_report2}')\n",
    "print(f'XGBoost GTE: Cross Val {xg_gte_cv_scores2}\\n {xg_gte_class_report2}')"
   ]
  },
  {
   "cell_type": "markdown",
   "metadata": {},
   "source": [
    "# Individual Joke Prediction"
   ]
  },
  {
   "cell_type": "code",
   "execution_count": 20,
   "metadata": {},
   "outputs": [],
   "source": [
    "def single_predict(example, embed_model, class_model, num_label):\n",
    "    # Embedding \n",
    "    embedding = np.empty(0)\n",
    "    if embed_model == \"bge\":\n",
    "        embedding = BGE(example)\n",
    "    elif embed_model == \"gte\":\n",
    "        embedding = GTE(example)\n",
    "    \n",
    "    embedding = np.expand_dims(embedding, axis=0)\n",
    "\n",
    "    # Classifiers\n",
    "    if num_label == 5:\n",
    "        if class_model == \"rf\":\n",
    "            pred = RF_bge_classifier5.predict(embedding)\n",
    "        elif class_model == \"xgb\":\n",
    "            pred = xg_gte_classifier5.predict(embedding)\n",
    "    elif num_label == 4:\n",
    "        if class_model == \"rf\":\n",
    "            pred = RF_bge_classifier4.predict(embedding)\n",
    "        elif class_model == \"xgb\":\n",
    "            pred = xg_gte_classifier4.predict(embedding)\n",
    "    elif num_label == 2:\n",
    "        if class_model == \"rf\":\n",
    "            pred = RF_bge_classifier2.predict(embedding)\n",
    "        elif class_model == \"xgb\":\n",
    "            pred = xg_gte_classifier2.predict(embedding)\n",
    "    \n",
    "    return pred\n"
   ]
  },
  {
   "cell_type": "code",
   "execution_count": 21,
   "metadata": {},
   "outputs": [
    {
     "name": "stdout",
     "output_type": "stream",
     "text": [
      "User Input: \"What’s the smartest insect? A spelling bee!\n",
      " 5 class Model prediction : [2]\n",
      " 4 class Model prediction : [2]\n",
      " 2 class Model prediction : [0]; (Where 0-Affiliative, 1-Aggressive)\n"
     ]
    }
   ],
   "source": [
    "user_input = \"What’s the smartest insect? A spelling bee!\"\n",
    "predict_5 = single_predict(user_input, \"gte\", \"xgb\", 5)\n",
    "predict_4 = single_predict(user_input, \"gte\", \"xgb\", 4)\n",
    "\n",
    "predict_2 = \"None\"\n",
    "if int(predict_4) == 2:\n",
    "    predict_2 = single_predict(user_input, \"gte\", \"xgb\", 2) #2 class model\n",
    "\n",
    "# Print the predicted label\n",
    "print(f'User Input: \"{user_input}\\n 5 class Model prediction : {predict_5}\\n 4 class Model prediction : {predict_4}')\n",
    "print(f' 2 class Model prediction : {predict_2}; (Where 0-Affiliative, 1-Aggressive)')\n"
   ]
  }
 ],
 "metadata": {
  "kernelspec": {
   "display_name": "base",
   "language": "python",
   "name": "python3"
  },
  "language_info": {
   "codemirror_mode": {
    "name": "ipython",
    "version": 3
   },
   "file_extension": ".py",
   "mimetype": "text/x-python",
   "name": "python",
   "nbconvert_exporter": "python",
   "pygments_lexer": "ipython3",
   "version": "3.11.7"
  }
 },
 "nbformat": 4,
 "nbformat_minor": 2
}
